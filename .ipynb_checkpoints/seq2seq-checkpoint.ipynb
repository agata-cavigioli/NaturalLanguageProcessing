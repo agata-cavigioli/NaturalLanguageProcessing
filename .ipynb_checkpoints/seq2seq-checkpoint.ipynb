{
 "cells": [
  {
   "cell_type": "code",
   "execution_count": 1,
   "id": "29b37aec",
   "metadata": {},
   "outputs": [],
   "source": [
    "import random\n",
    "import string\n",
    "import torch\n",
    "\n",
    "allowed_chars = string.digits + '+'\n",
    "\n",
    "class Generator():\n",
    "    def __init__(self) -> None:\n",
    "        pass\n",
    "\n",
    "    # Método para crear un ejemplo de entrenamiento\n",
    "    def sample(self):\n",
    "        s1 = random.randint(0, 999)\n",
    "        s2 = random.randint(0, 999)\n",
    "        r = s1 + s2\n",
    "        s1_string = str(s1).zfill(3)\n",
    "        s2_string = str(s2).zfill(3)\n",
    "        output = str(r).zfill(4)\n",
    "        input = s1_string + \"+\" + s2_string\n",
    "        return input, output\n",
    "    \n",
    "    # Método para crear un lote de ejemplos de entrenamiento\n",
    "    def batch(self, n):\n",
    "        inputs = []\n",
    "        outputs = []\n",
    "        for _ in range(n):\n",
    "            input, output = self.sample()\n",
    "            inputs.append(input)\n",
    "            outputs.append(output)\n",
    "        return inputs, outputs\n",
    "    \n",
    "    # Método para codificar una cadena de caracteres en un tensor one-hot\n",
    "    def string_to_tensor(self, s):\n",
    "        tensor = torch.zeros(len(s), len(allowed_chars))\n",
    "        for i, char in enumerate(s):\n",
    "            tensor[i, allowed_chars.index(char)] = 1\n",
    "        return tensor\n",
    "\n",
    "    # Método para decodificar un tensor one-hot en una cadena de caracteres\n",
    "    def tensor_to_string(self, tensor):\n",
    "        _, max_idx = tensor.max(1)\n",
    "        return ''.join([allowed_chars[i] for i in max_idx])\n",
    "    \n",
    "    # Método para generar un lote de ejemplos de entrenamiento codificados\n",
    "    def batch_to_tensor(self, n):\n",
    "        seq_in = []\n",
    "        seq_out = []\n",
    "        inputs, outputs = self.batch(n)\n",
    "        # print(inputs, outputs)\n",
    "        for input, output in zip(inputs, outputs):\n",
    "            seq_in.append(self.string_to_tensor(input))\n",
    "            seq_out.append(self.string_to_tensor(output))\n",
    "        return torch.stack(seq_in), torch.stack(seq_out)"
   ]
  },
  {
   "cell_type": "code",
   "execution_count": 2,
   "id": "c7a627c2",
   "metadata": {},
   "outputs": [],
   "source": [
    "import torch.nn as nn\n",
    "import torch.optim as optim\n",
    "import torch.nn.functional as F\n",
    "\n",
    "\n",
    "# Definir la arquitectura del modelo seq2seq\n",
    "class Seq2Seq(nn.Module):\n",
    "    def __init__(self, input_size, hidden_size, output_size):\n",
    "        super(Seq2Seq, self).__init__()\n",
    "        self.hidden_size = hidden_size\n",
    "        self.encoder = nn.LSTM(input_size, hidden_size, batch_first=True)\n",
    "        self.decoder = nn.LSTM(hidden_size, hidden_size, batch_first=True)\n",
    "        self.output = nn.Linear(hidden_size, output_size)\n",
    "\n",
    "    def forward(self, input, hidden=None):\n",
    "        _, (hn_enc, cn_enc) = self.encoder(input, hidden)\n",
    "        latent_tensor = hn_enc[0].unsqueeze(1).repeat(1, 4, 1)\n",
    "        out_dec, (_, _) = self.decoder(latent_tensor, (hn_enc, cn_enc))\n",
    "        out = F.softmax(self.output(out_dec), dim=2)\n",
    "        return out\n",
    "    \n",
    "model = Seq2Seq(input_size=len(allowed_chars), hidden_size=128, output_size=len(allowed_chars))"
   ]
  },
  {
   "cell_type": "code",
   "execution_count": 3,
   "id": "59697934",
   "metadata": {},
   "outputs": [
    {
     "name": "stdout",
     "output_type": "stream",
     "text": [
      "Epoch: 0, Loss: 0.08267869055271149\n",
      "Epoch: 100, Loss: 0.06526059657335281\n",
      "Epoch: 200, Loss: 0.05384470149874687\n",
      "Epoch: 300, Loss: 0.05061475932598114\n",
      "Epoch: 400, Loss: 0.04687529802322388\n",
      "Epoch: 500, Loss: 0.04602385684847832\n",
      "Epoch: 600, Loss: 0.042539939284324646\n",
      "Epoch: 700, Loss: 0.04519902914762497\n",
      "Epoch: 800, Loss: 0.04336144030094147\n",
      "Epoch: 900, Loss: 0.04379831627011299\n",
      "Epoch: 1000, Loss: 0.04311651736497879\n",
      "Epoch: 1100, Loss: 0.042493101209402084\n",
      "Epoch: 1200, Loss: 0.041953541338443756\n",
      "Epoch: 1300, Loss: 0.039939094334840775\n",
      "Epoch: 1400, Loss: 0.04077417030930519\n",
      "Epoch: 1500, Loss: 0.04157235845923424\n",
      "Epoch: 1600, Loss: 0.04136711731553078\n",
      "Epoch: 1700, Loss: 0.03954024985432625\n",
      "Epoch: 1800, Loss: 0.0384952686727047\n",
      "Epoch: 1900, Loss: 0.037889525294303894\n",
      "Epoch: 2000, Loss: 0.03418932855129242\n",
      "Epoch: 2100, Loss: 0.03413454070687294\n",
      "Epoch: 2200, Loss: 0.031242551282048225\n",
      "Epoch: 2300, Loss: 0.03168277069926262\n",
      "Epoch: 2400, Loss: 0.031119834631681442\n",
      "Epoch: 2500, Loss: 0.027370624244213104\n",
      "Epoch: 2600, Loss: 0.0291400495916605\n",
      "Epoch: 2700, Loss: 0.02907806821167469\n",
      "Epoch: 2800, Loss: 0.02519930526614189\n",
      "Epoch: 2900, Loss: 0.027148209512233734\n",
      "Epoch: 3000, Loss: 0.024883752688765526\n",
      "Epoch: 3100, Loss: 0.02483760192990303\n",
      "Epoch: 3200, Loss: 0.024963704869151115\n",
      "Epoch: 3300, Loss: 0.025944923982024193\n",
      "Epoch: 3400, Loss: 0.023375429213047028\n",
      "Epoch: 3500, Loss: 0.02402857504785061\n",
      "Epoch: 3600, Loss: 0.023658888414502144\n",
      "Epoch: 3700, Loss: 0.023262031376361847\n",
      "Epoch: 3800, Loss: 0.023606719449162483\n",
      "Epoch: 3900, Loss: 0.02322542853653431\n",
      "Epoch: 4000, Loss: 0.023215007036924362\n",
      "Epoch: 4100, Loss: 0.020408429205417633\n",
      "Epoch: 4200, Loss: 0.016210896894335747\n",
      "Epoch: 4300, Loss: 0.008482941426336765\n",
      "Epoch: 4400, Loss: 0.0032075459603220224\n",
      "Epoch: 4500, Loss: 0.002283703535795212\n",
      "Epoch: 4600, Loss: 0.001095649553462863\n",
      "Epoch: 4700, Loss: 0.0008259748574346304\n",
      "Epoch: 4800, Loss: 0.0005241494509391487\n",
      "Epoch: 4900, Loss: 0.001699164160527289\n"
     ]
    },
    {
     "data": {
      "text/plain": [
       "[<matplotlib.lines.Line2D at 0x7fad24196da0>]"
      ]
     },
     "execution_count": 3,
     "metadata": {},
     "output_type": "execute_result"
    },
    {
     "data": {
      "image/png": "[encoded data removed]",
      "text/plain": [
       "<Figure size 640x480 with 1 Axes>"
      ]
     },
     "metadata": {},
     "output_type": "display_data"
    }
   ],
   "source": [
    "import matplotlib.pyplot as plt\n",
    "\n",
    "history = []\n",
    "\n",
    "# Bucle de entrenamiento\n",
    "def train(model, optimizer, loss_fn, n_epochs, batch_size):\n",
    "    for epoch in range(n_epochs):\n",
    "        total_loss = 0\n",
    "        \n",
    "        optimizer.zero_grad()\n",
    "        x, y = dg.batch_to_tensor(batch_size)\n",
    "        y_pred = model(x)\n",
    "        loss = loss_fn(y_pred, y)\n",
    "        loss.backward()\n",
    "        optimizer.step()\n",
    "        total_loss += loss.item()\n",
    "        # Print the loss every 10 epochs\n",
    "        if epoch % 100 == 0:\n",
    "            print(\"Epoch: {}, Loss: {}\".format(epoch, total_loss))\n",
    "            history.append(total_loss)\n",
    "\n",
    "# Definir la función de pérdida y el optimizador\n",
    "loss_fn = nn.MSELoss()\n",
    "optimizer = optim.Adam(model.parameters(), lr=0.01)\n",
    "\n",
    "# Entrenar el modelo\n",
    "dg = Generator()\n",
    "train(model, optimizer, loss_fn, 5000, 128)\n",
    "\n",
    "\n",
    "plt.plot(history, label='loss')"
   ]
  },
  {
   "cell_type": "code",
   "execution_count": 4,
   "id": "c12f0462",
   "metadata": {},
   "outputs": [
    {
     "name": "stdout",
     "output_type": "stream",
     "text": [
      "011+000 0011 0011\n",
      "824+321 1145 1145\n",
      "975+368 1343 1343\n",
      "992+543 1535 1535\n",
      "181+981 1162 1162\n",
      "599+521 1120 1120\n",
      "824+826 1650 1650\n",
      "398+787 1185 1185\n",
      "407+228 0635 0635\n",
      "066+424 0490 0490\n"
     ]
    }
   ],
   "source": [
    "# Evaluar el modelo\n",
    "def evaluate(model, n):\n",
    "    x, y = dg.batch_to_tensor(n)\n",
    "    y_pred = model(x)\n",
    "    for i in range(n):\n",
    "        print(dg.tensor_to_string(x[i]), dg.tensor_to_string(y_pred[i]), dg.tensor_to_string(y[i]))\n",
    "\n",
    "evaluate(model, 10)"
   ]
  },
  {
   "cell_type": "code",
   "execution_count": null,
   "id": "e55067f7",
   "metadata": {},
   "outputs": [],
   "source": []
  }
 ],
 "metadata": {
  "kernelspec": {
   "display_name": "Python 3 (ipykernel)",
   "language": "python",
   "name": "python3"
  },
  "language_info": {
   "codemirror_mode": {
    "name": "ipython",
    "version": 3
   },
   "file_extension": ".py",
   "mimetype": "text/x-python",
   "name": "python",
   "nbconvert_exporter": "python",
   "pygments_lexer": "ipython3",
   "version": "3.9.7"
  }
 },
 "nbformat": 4,
 "nbformat_minor": 5
}
