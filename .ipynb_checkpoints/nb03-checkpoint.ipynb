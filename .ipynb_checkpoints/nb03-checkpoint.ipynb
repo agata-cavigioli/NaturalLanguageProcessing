{
 "cells": [
  {
   "cell_type": "markdown",
   "metadata": {},
   "source": [
    "<br>\n",
    "<br>\n",
    "\n",
    "# **Modelos del lenguaje basados en redes neuronales artificiales**"
   ]
  },
  {
   "cell_type": "markdown",
   "metadata": {},
   "source": [
    "## **Redes neuronales recurrentes (RNN)**\n",
    "\n",
    "### **Ejemplo de aplicación de un modelo LSTM a la clasificación de textos**\n",
    "\n",
    "#### **Dataset**\n",
    "\n",
    "El conjunto de datos \"AG_NEWS\" es un conjunto de datos de clasificación de texto ampliamente utilizado en el campo del procesamiento de lenguaje natural (NLP). Contiene noticias de diferentes categorías y se utiliza comúnmente para tareas de clasificación de texto. El conjunto de datos AG_NEWS consta de noticias de cuatro categorías principales, que son:\n",
    "\n",
    "1. **World**: Noticias sobre eventos y acontecimientos globales, como política internacional, relaciones internacionales y noticias mundiales en general.\n",
    "\n",
    "2. **Sports**: Noticias relacionadas con eventos deportivos, resultados de partidos, eventos deportivos nacionales e internacionales, etc.\n",
    "\n",
    "3. **Business**: Noticias relacionadas con el mundo de los negocios, finanzas, economía, empresas, informes de ganancias y otros temas económicos.\n",
    "\n",
    "4. **Sci/Tech**: Noticias relacionadas con ciencia y tecnología, incluyendo avances científicos, novedades tecnológicas, gadgets, investigaciones científicas y más.\n",
    "\n",
    "Cada instancia del conjunto de datos AG_NEWS generalmente consiste en un título y un cuerpo de una noticia, junto con una etiqueta que indica la categoría a la que pertenece. "
   ]
  },
  {
   "cell_type": "code",
   "execution_count": 1,
   "metadata": {},
   "outputs": [
    {
     "name": "stdout",
     "output_type": "stream",
     "text": [
      "Usando GPU: NVIDIA GeForce RTX 4070\n"
     ]
    }
   ],
   "source": [
    "import torch\n",
    "\n",
    "# Comprobar si hay una GPU disponible\n",
    "if torch.cuda.is_available():\n",
    "    # Seleccionar la GPU por índice (por ejemplo, índice 0 para la primera GPU)\n",
    "    device = torch.device(\"cuda:0\")\n",
    "    print(f\"Usando GPU: {torch.cuda.get_device_name(0)}\")\n",
    "else:\n",
    "    # Si no hay GPU disponible, utiliza la CPU\n",
    "    device = torch.device(\"cpu\")\n",
    "    print(\"No se encontraron GPUs disponibles, utilizando la CPU\")"
   ]
  },
  {
   "cell_type": "code",
   "execution_count": 2,
   "metadata": {},
   "outputs": [],
   "source": [
    "from torchtext import datasets\n",
    "from torchtext.data import to_map_style_dataset\n",
    "import numpy as np\n",
    "\n",
    "# Load the dataset\n",
    "train_iter, test_iter = datasets.AG_NEWS(split=('train', 'test'))\n",
    "\n",
    "train_ds = to_map_style_dataset(train_iter)\n",
    "test_ds = to_map_style_dataset(test_iter)\n",
    "\n",
    "train = np.array(train_ds)\n",
    "test = np.array(test_ds)"
   ]
  },
  {
   "cell_type": "markdown",
   "metadata": {},
   "source": [
    "#### **Tokenización**"
   ]
  },
  {
   "cell_type": "code",
   "execution_count": 3,
   "metadata": {},
   "outputs": [],
   "source": [
    "# Create vocabulary and embedding\n",
    "\n",
    "from torchtext.vocab import build_vocab_from_iterator\n",
    "from torchtext.data.utils import get_tokenizer\n",
    "\n",
    "tokenizer = get_tokenizer(\"basic_english\")\n",
    "\n",
    "vocab = build_vocab_from_iterator(map(lambda x: tokenizer(x[1]), train_iter), specials=['<pad>','<unk>'])\n",
    "vocab.set_default_index(vocab[\"<unk>\"])"
   ]
  },
  {
   "cell_type": "code",
   "execution_count": 4,
   "metadata": {},
   "outputs": [
    {
     "name": "stdout",
     "output_type": "stream",
     "text": [
      "Tamaño del vocabulario: 95812 tokens\n",
      "Tokenización de la frase 'Here is an example sentence': ['here', 'is', 'an', 'example', 'sentence']\n",
      "Índices de las palabras 'here', 'is', 'an', 'example', 'supercalifragilisticexpialidocious': [476, 22, 31, 5298, 1]\n",
      "Palabras correspondientes a los índices 475, 21, 30, 5297, 0: ['version', 'at', 'from', 'establish', '<pad>']\n",
      "Las diez primeras palabras del vocabulario: ['<pad>', '<unk>', '.', 'the', ',', 'to', 'a', 'of', 'in', 'and']\n"
     ]
    }
   ],
   "source": [
    "print(\"Tamaño del vocabulario:\", len(vocab), \"tokens\")\n",
    "print(\"Tokenización de la frase 'Here is an example sentence':\", tokenizer(\"Here is an example sentence\"))\n",
    "print(\"Índices de las palabras 'here', 'is', 'an', 'example', 'supercalifragilisticexpialidocious':\", vocab(['here', 'is', 'an', 'example', 'supercalifragilisticexpialidocious']))\n",
    "print(\"Palabras correspondientes a los índices 475, 21, 30, 5297, 0:\", vocab.lookup_tokens([475, 21, 30, 5297, 0]))\n",
    "print(\"Las diez primeras palabras del vocabulario:\", vocab.get_itos()[:10])"
   ]
  },
  {
   "cell_type": "code",
   "execution_count": 5,
   "metadata": {},
   "outputs": [
    {
     "name": "stdout",
     "output_type": "stream",
     "text": [
      "Tokenización de la frase 'Here is an example sentence': [476, 22, 31, 5298, 2994]\n"
     ]
    }
   ],
   "source": [
    "text_pipeline = lambda x: vocab(tokenizer(x))\n",
    "label_pipeline = lambda x: int(x) - 1\n",
    "\n",
    "print(\"Tokenización de la frase 'Here is an example sentence':\", text_pipeline(\"Here is an example sentence\"))"
   ]
  },
  {
   "cell_type": "markdown",
   "metadata": {},
   "source": [
    "#### **DataLoader**\n",
    "\n",
    "En PyTorch, **DataLoader** se utiliza para cargar y manejar datos de manera eficiente durante el entrenamiento de modelos de aprendizaje profundo, especialmente en tareas de aprendizaje supervisado como la clasificación, la regresión y más. El DataLoader forma parte de la biblioteca torch.utils.data, y su objetivo principal es facilitar la administración de lotes (batches) de datos y la distribución de esos lotes al modelo de forma automática.\n",
    "\n",
    "La función <code>collate_batch</code> es una función personalizada que se utiliza como argumento para collate_fn al crear instancias de los objetos DataLoader. Tiene la responsabilidad de procesar y agrupar las muestras individuales de datos dentro de un lote (batch) de manera que sean compatibles para su posterior procesamiento dentro de la LSTM. Es especialmente útil cuando las secuencias de texto tienen longitudes diferentes y es necesario realizar un relleno (padding) para que todas tengan la misma longitud."
   ]
  },
  {
   "cell_type": "code",
   "execution_count": 11,
   "metadata": {},
   "outputs": [],
   "source": [
    "from torch.utils.data import DataLoader\n",
    "\n",
    "\n",
    "def collate_batch(batch):\n",
    "    label_list, text_list = [], []\n",
    "    for sample in batch:\n",
    "        label, text = sample\n",
    "        text_list.append(torch.tensor(text_pipeline(text), dtype=torch.long))\n",
    "        label_list.append(label_pipeline(label))\n",
    "    return torch.tensor(label_list, dtype=torch.long).to(device), torch.nn.utils.rnn.pad_sequence(text_list, batch_first=True, padding_value=vocab[\"<pad>\"]).to(device)\n",
    "\n",
    "train_dataloader = DataLoader(\n",
    "    train_iter, batch_size=64, shuffle=True, collate_fn=collate_batch\n",
    ")\n",
    "\n",
    "test_dataloader = DataLoader(\n",
    "    test_iter, batch_size=64, shuffle=True, collate_fn=collate_batch\n",
    ")"
   ]
  },
  {
   "cell_type": "markdown",
   "metadata": {},
   "source": [
    "Para verificar que estamos creando correctamente los lotes, vamos a imprimir las primeras cuatro instancias:"
   ]
  },
  {
   "cell_type": "code",
   "execution_count": 12,
   "metadata": {},
   "outputs": [
    {
     "name": "stdout",
     "output_type": "stream",
     "text": [
      "tensor([[ 3037,     4,  3250,   234,   820,  1206,   781,    49,     7,     3,\n",
      "           129,   791,    13,    10,   170, 11871,     7,     3,   270,    11,\n",
      "           820,  1328,  2357,     7,  4337,  1265,    19, 16489,    11,    58,\n",
      "             4,     6,  1739,   133,    12,    53,  5973,  3279,  3326,     2,\n",
      "             0,     0,     0,     0,     0,     0,     0,     0,     0,     0,\n",
      "             0,     0,     0,     0,     0,     0,     0,     0,     0,     0,\n",
      "             0,     0,     0,     0,     0,     0,     0,     0,     0,     0,\n",
      "             0,     0,     0,     0,     0,     0,     0,     0,     0,     0,\n",
      "             0,     0,     0,     0,     0,     0,     0,     0,     0,     0,\n",
      "             0,     0,     0,     0,     0,     0,     0,     0,     0,     0,\n",
      "             0,     0,     0,     0,     0],\n",
      "        [ 3130,  4464,  2293, 36944,   879, 50602,  6504,   662,   878,    11,\n",
      "            49,  1213,  2253,    20,     3,  3130,  2519,     3,  2293,     4,\n",
      "         27493,     4,    11,    56,   116,     2,     0,     0,     0,     0,\n",
      "             0,     0,     0,     0,     0,     0,     0,     0,     0,     0,\n",
      "             0,     0,     0,     0,     0,     0,     0,     0,     0,     0,\n",
      "             0,     0,     0,     0,     0,     0,     0,     0,     0,     0,\n",
      "             0,     0,     0,     0,     0,     0,     0,     0,     0,     0,\n",
      "             0,     0,     0,     0,     0,     0,     0,     0,     0,     0,\n",
      "             0,     0,     0,     0,     0,     0,     0,     0,     0,     0,\n",
      "             0,     0,     0,     0,     0,     0,     0,     0,     0,     0,\n",
      "             0,     0,     0,     0,     0],\n",
      "        [  267,   421,  1762,  3310,     5,   466,     5,    17,  5833,   161,\n",
      "            17,    14,    28,    15,    28,    16,   267,   421,  4442,     5,\n",
      "          3310,    76, 72269,  4964,     8,     3,   212,     5,   466,     5,\n",
      "             3,  9648,   130,     4, 57625,    12,   845, 16048,   246,   762,\n",
      "         33672,     9,   604,     6, 94151,  4738,   246,     2,     0,     0,\n",
      "             0,     0,     0,     0,     0,     0,     0,     0,     0,     0,\n",
      "             0,     0,     0,     0,     0,     0,     0,     0,     0,     0,\n",
      "             0,     0,     0,     0,     0,     0,     0,     0,     0,     0,\n",
      "             0,     0,     0,     0,     0,     0,     0,     0,     0,     0,\n",
      "             0,     0,     0,     0,     0,     0,     0,     0,     0,     0,\n",
      "             0,     0,     0,     0,     0],\n",
      "        [   37,   156,  1949,  1348,     4,   211,  1471,    17,  1983,   572,\n",
      "            14,    28,    15,    28,    16,     6,   195,  1897,   156,    11,\n",
      "         40099,     6, 10416,  1552,     5,     3,  6782,   778,     7, 38022,\n",
      "          2494,     9,   211,   215,     4,   860,    18,   519, 81271,   108,\n",
      "           215,    43,    63,  7054,    12, 44110,     2,     0,     0,     0,\n",
      "             0,     0,     0,     0,     0,     0,     0,     0,     0,     0,\n",
      "             0,     0,     0,     0,     0,     0,     0,     0,     0,     0,\n",
      "             0,     0,     0,     0,     0,     0,     0,     0,     0,     0,\n",
      "             0,     0,     0,     0,     0,     0,     0,     0,     0,     0,\n",
      "             0,     0,     0,     0,     0,     0,     0,     0,     0,     0,\n",
      "             0,     0,     0,     0,     0]], device='cuda:0')\n",
      "\n",
      "\n",
      "tensor([0, 1, 0, 3], device='cuda:0')\n",
      "\n",
      "\n"
     ]
    },
    {
     "name": "stderr",
     "output_type": "stream",
     "text": [
      "c:\\Users\\adria\\miniconda3\\envs\\cuda\\Lib\\site-packages\\torch\\utils\\data\\datapipes\\iter\\combining.py:333: UserWarning: Some child DataPipes are not exhausted when __iter__ is called. We are resetting the buffer and each child DataPipe will read from the start again.\n",
      "  warnings.warn(\"Some child DataPipes are not exhausted when __iter__ is called. We are resetting \"\n"
     ]
    }
   ],
   "source": [
    "for batch in train_dataloader:\n",
    "    print(batch[1][:4])\n",
    "    print(\"\\n\")\n",
    "    print(batch[0][:4])\n",
    "    print(\"\\n\")\n",
    "    break"
   ]
  },
  {
   "cell_type": "markdown",
   "metadata": {},
   "source": [
    "#### **Modelo LSTM**\n",
    "\n",
    "Definimos una clase llamada `LSTMTextClassificationModel` para la clasificación de texto basado en LSTM. Esta clase hereda de `nn.Module`, la clase base para todos los modelos en PyTorch.\n",
    "\n",
    "**Inicialización del Modelo**: En el método `__init__`, se definen los componentes principales del modelo y se configuran sus parámetros:\n",
    "   - **vocab_size**: El tamaño del vocabulario, es decir, la cantidad de palabras únicas en el conjunto de datos de entrenamiento.\n",
    "   - **embed_dim**: La dimensión de los vectores de embedding para representar las palabras.\n",
    "   - **hidden_dim**: El tamaño de la capa oculta de la LSTM, que controla la cantidad de unidades o \"memoria\" en la red LSTM.\n",
    "   - **num_class**: El número de clases de salida en la tarea de clasificación.\n",
    "\n",
    "\n",
    "**Capa de Embedding**: Se define una capa de embedding (`nn.Embedding`) que se utilizará para representar las palabras como vectores densos. Esta capa no es pre-entrenada, lo que significa que los vectores de embedding se entrenarán junto con el modelo durante el proceso de entrenamiento.\n",
    "\n",
    "**Capa LSTM**: Se define una capa LSTM (`nn.LSTM`) que toma los vectores de embedding como entrada. `embed_dim` es la dimensión de entrada de la capa LSTM, y `hidden_dim` es la dimensión de su capa oculta. `batch_first=True` indica que los datos de entrada tendrán la forma `(batch_size, sequence_length, embed_dim)`.\n",
    "\n",
    "**Capa Fully Connected (FC)**: Se define una capa completamente conectada (`nn.Linear`) que se utiliza para producir las salidas de clasificación. Toma las salidas de la capa LSTM correspondientes a la última iteración y las reduce a `num_class` dimensiones, que corresponde al número de clases en la tarea de clasificación.\n"
   ]
  },
  {
   "cell_type": "code",
   "execution_count": 13,
   "metadata": {},
   "outputs": [],
   "source": [
    "import torch\n",
    "import torch.nn as nn\n",
    "\n",
    "class LSTMTextClassificationModel(nn.Module):\n",
    "    def __init__(self, vocab_size, embed_dim, hidden_dim, num_class):\n",
    "        super(LSTMTextClassificationModel, self).__init__()\n",
    "        self.embedding = nn.Embedding(vocab_size, embed_dim)  # <-- Capa de embedding genérica (no pre-entrenada)\n",
    "        self.lstm = nn.LSTM(embed_dim, hidden_dim, batch_first=True)\n",
    "        self.fc = nn.Linear(hidden_dim, num_class)\n",
    "\n",
    "    def forward(self, text):\n",
    "        embedded = self.embedding(text)  # <-- Tras pasar por la capa de embedding, las palabras se representan como vectores\n",
    "        lstm_out, _ = self.lstm(embedded)\n",
    "        # Tomar la última salida de la secuencia LSTM\n",
    "        last_output = lstm_out[:, -1, :]\n",
    "        output = self.fc(last_output)\n",
    "        return output\n"
   ]
  },
  {
   "cell_type": "markdown",
   "metadata": {},
   "source": [
    "Antes de seguir veamos cómo se conforma un *batch* de datos tras pasar la capa de *embedding*. Como se muestra en la figura siguiente, un *batch* es un vector de tres dimensiones, donde la primera dimensión es el tamaño del *batch*, la segunda dimensión es el número de palabras en cada secuencia y la tercera dimensión es el tamaño del vector de *embedding* (*channels* o *features*).\n",
    "\n",
    "<img src=\"imgs/Lote1_b.svg\" width=\"30%\">\n",
    "\n",
    "Por ejemplo, un *token* estaría ahora representado por un vector de *embedding* de tres componentes, en lugar de un escalar. Si lo quisiéramos referenciar sería: <code>mini_lote[0,3,:]</code>.\n",
    "\n",
    "<img src=\"imgs/Lote2_b.svg\" width=\"30%\">\n",
    "\n",
    "\n",
    "Fíjate que la tercera dimensión del tensor de salida de la LSTM no tiene por qué tener el mismo tamaño que la tercera dimensión del tensor de entrada. La parte del tensor correspondiente a la línea de código <code>last_output = lstm_out[:, -1, :]</code> sería parecida a la siguiente:\n",
    "\n",
    "<img src=\"imgs/Lote3_b.svg\" width=\"30%\">"
   ]
  },
  {
   "cell_type": "markdown",
   "metadata": {},
   "source": [
    "Ya podemos pasar un primer mini-lote de datos por la red. Para ello, vamos a crearlo a partir de los datos de entrenamiento. Esto solo lo hacemos para asegurarnos de que el código funciona correctamente."
   ]
  },
  {
   "cell_type": "code",
   "execution_count": 14,
   "metadata": {},
   "outputs": [
    {
     "name": "stdout",
     "output_type": "stream",
     "text": [
      "tensor([[ 1291,  3117,  1136,   535,  1471,  1291,    29,   213,   786,  1221,\n",
      "            64,    49,   535,  1471,     8,    23,   227,     5,  2936,  1136,\n",
      "          1983,     2,     0,     0,     0,     0,     0,     0,     0,     0,\n",
      "             0,     0,     0,     0,     0,     0,     0,     0,     0,     0,\n",
      "             0,     0,     0,     0,     0,     0,     0,     0,     0,     0,\n",
      "             0,     0,     0,     0,     0,     0,     0,     0,     0,     0,\n",
      "             0,     0,     0,     0,     0,     0,     0,     0,     0,     0,\n",
      "             0,     0,     0,     0,     0,     0,     0,     0,     0,     0,\n",
      "             0,     0,     0,     0],\n",
      "        [  118,  5248,   399,    90,    12,  6095,     7, 10220,   841,    14,\n",
      "            28,    15,    16,   118,     4,  4782,    69,   979,     7,   185,\n",
      "         10220,     4,    29,  2453,     6,   180,   263,    90,    18, 35967,\n",
      "          1174,     4,  1363,  1370,     4, 10977,     9, 12383,    20,   777,\n",
      "             9,    29,  1317,     5,  2190,   225,  1009,    18,   824,     3,\n",
      "            90,     9,   455,  7188,    18,  1032, 21463,  1662,    26,     2,\n",
      "             0,     0,     0,     0,     0,     0,     0,     0,     0,     0,\n",
      "             0,     0,     0,     0,     0,     0,     0,     0,     0,     0,\n",
      "             0,     0,     0,     0],\n",
      "        [ 1166,  3026,    40,   155,    12,    47,  2372,  2457,   322,   148,\n",
      "             4,    76,    43,   792,  1211,  2458,     5,  1044,   109,     4,\n",
      "         19513,    24,  2372,  2457,     8,     3,   331,   191,     4,    40,\n",
      "           155,    12,   207, 14260,  2457,     4,   101,  1166,    27,    56,\n",
      "             2,     0,     0,     0,     0,     0,     0,     0,     0,     0,\n",
      "             0,     0,     0,     0,     0,     0,     0,     0,     0,     0,\n",
      "             0,     0,     0,     0,     0,     0,     0,     0,     0,     0,\n",
      "             0,     0,     0,     0,     0,     0,     0,     0,     0,     0,\n",
      "             0,     0,     0,     0],\n",
      "        [ 9220,  4544,   842,  2107,   277,   352,     4,  1148,    16,   854,\n",
      "          2107,    17,    10,   277,   708,   178,   603,    23, 13265,     2,\n",
      "             6,  2317,  4882,    21,     3,  5283,  3261,   217,   794,   212,\n",
      "           421,    17,    10,  9007, 13760,     3,   277,    18,   790,    44,\n",
      "           665,     5,  2107,     4,     3,   139,  3261,  4143,  1295,   115,\n",
      "             2,     2,     2,     0,     0,     0,     0,     0,     0,     0,\n",
      "             0,     0,     0,     0,     0,     0,     0,     0,     0,     0,\n",
      "             0,     0,     0,     0,     0,     0,     0,     0,     0,     0,\n",
      "             0,     0,     0,     0]], device='cuda:0')\n",
      "tensor([[-0.0122,  0.1850, -0.0965, -0.0824],\n",
      "        [-0.0122,  0.1850, -0.0964, -0.0824],\n",
      "        [-0.0122,  0.1850, -0.0965, -0.0824],\n",
      "        [-0.0122,  0.1850, -0.0965, -0.0824]], device='cuda:0',\n",
      "       grad_fn=<SliceBackward0>)\n",
      "tensor([3, 3, 0, 0], device='cuda:0')\n"
     ]
    }
   ],
   "source": [
    "model = LSTMTextClassificationModel(len(vocab), 32, 64, 4).to(device)\n",
    "model.train()\n",
    "\n",
    "for batch in train_dataloader:\n",
    "    predicted_label = model(batch[1])\n",
    "    label = batch[0]\n",
    "    break\n",
    "\n",
    "print(batch[1][:4])\n",
    "print(predicted_label[:4])\n",
    "print(label[:4])"
   ]
  },
  {
   "cell_type": "markdown",
   "metadata": {},
   "source": [
    "#### **Entrenamiento**\n",
    "\n",
    "Vamos a construir las funciones <code>train</code> y <code>evaluate</code>. Dentro de la función <code>evaluate</code> vamos a prestar atención al contexto <code>with torch.no_grad():</code>, que sirve para indicar que no se van a calcular los gradientes. Esto es así porque en la fase de evaluación no se van a actualizar los pesos de la red, solo se van a utilizar para calcular la precisión de la red. Esto optimiza los recursos utilizados por PyTorch en cuanto a la gestión de la memoria.\n",
    "\n",
    "Recuerda que en PyTorch, `model.train()` y `model.eval()` son métodos que se utilizan para cambiar el modo de entrenamiento de un modelo de aprendizaje profundo. Estos métodos afectan el comportamiento de ciertos módulos en el modelo, como las capas de dropout y normalización, que se comportan de manera diferente durante el entrenamiento y la evaluación. Específicamente hacen lo siguiente:\n",
    "\n",
    "**model.train()**:\n",
    "   - Cuando se llama a `model.train()`, el modelo se coloca en modo de entrenamiento.\n",
    "   - En este modo, las capas de dropout se activan, lo que significa que se aplican durante el entrenamiento para ayudar a evitar el sobreajuste. Durante el entrenamiento, las capas de dropout \"apagan\" aleatoriamente un porcentaje de las unidades (neuronas) en la red en cada paso de entrenamiento.\n",
    "   - También afecta a las capas de normalización, como Batch Normalization, para que utilicen estadísticas de mini-lotes (batches) durante el entrenamiento.\n",
    "\n",
    "**model.eval()**:\n",
    "   - Cuando se llama a `model.eval()`, el modelo se coloca en modo de evaluación o inferencia.\n",
    "   - En este modo, las capas de dropout se desactivan, lo que significa que no se aplican durante la evaluación. Esto garantiza que el modelo produzca resultados deterministas y coherentes durante la inferencia.\n",
    "   - Las capas de normalización, como Batch Normalization, utilizan estadísticas acumuladas durante el entrenamiento (en lugar de estadísticas de mini-lotes) para garantizar una evaluación coherente y precisa.\n",
    "\n",
    "\n",
    "En la práctica, es común utilizar `model.train()` antes de cada época de entrenamiento y `model.eval()` antes de realizar inferencia o evaluación en un modelo entrenado. Cambiar entre estos modos es esencial para garantizar que el modelo se comporte correctamente en diferentes etapas del proceso de entrenamiento y evaluación."
   ]
  },
  {
   "cell_type": "code",
   "execution_count": 15,
   "metadata": {},
   "outputs": [],
   "source": [
    "import time\n",
    "\n",
    "# Hyperparameters\n",
    "EPOCHS = 10  # epoch\n",
    "LR = 5  # learning rate\n",
    "\n",
    "criterion = torch.nn.CrossEntropyLoss()\n",
    "optimizer = torch.optim.SGD(model.parameters(), lr=LR)\n",
    "scheduler = torch.optim.lr_scheduler.StepLR(optimizer, 1.0, gamma=0.1)\n",
    "\n",
    "def train(dataloader):\n",
    "    model.train()\n",
    "    total_acc, total_count, max_acc = 0, 0, 0\n",
    "    log_interval = 500\n",
    "    start_time = time.time()\n",
    "\n",
    "    for idx, (label, text) in enumerate(dataloader):\n",
    "\n",
    "        label, text = label.to(device), text.to(device)\n",
    "\n",
    "        optimizer.zero_grad()\n",
    "        predicted_label = model(text)\n",
    "        loss = criterion(predicted_label, label)\n",
    "        loss.backward()\n",
    "        torch.nn.utils.clip_grad_norm_(model.parameters(), 0.1)\n",
    "        optimizer.step()\n",
    "\n",
    "        total_acc += (predicted_label.argmax(1) == label).sum().item()\n",
    "        total_count += label.size(0)\n",
    "        if idx % log_interval == 0 and idx > 0:\n",
    "            elapsed = time.time() - start_time\n",
    "            print('| {:5d} batches '\n",
    "                  '| accuracy {:8.3f}'.format(idx, total_acc / total_count))\n",
    "\n",
    "            if max_acc < total_acc / total_count:\n",
    "                max_acc = total_acc / total_count\n",
    "\n",
    "            total_acc, total_count = 0, 0\n",
    "            start_time = time.time()\n",
    "    return max_acc\n",
    "\n",
    "\n",
    "def evaluate(dataloader):\n",
    "    model.eval()\n",
    "    total_acc, total_count = 0, 0\n",
    "\n",
    "    with torch.no_grad():\n",
    "        for idx, (label, text) in enumerate(dataloader):\n",
    "\n",
    "            label, text = label.to(device), text.to(device)\n",
    "\n",
    "            predicted_label = model(text)\n",
    "            loss = criterion(predicted_label, label)\n",
    "            total_acc += (predicted_label.argmax(1) == label).sum().item()\n",
    "            total_count += label.size(0)\n",
    "    return total_acc / total_count"
   ]
  },
  {
   "cell_type": "code",
   "execution_count": 16,
   "metadata": {},
   "outputs": [
    {
     "name": "stderr",
     "output_type": "stream",
     "text": [
      "c:\\Users\\adria\\miniconda3\\envs\\cuda\\Lib\\site-packages\\torch\\utils\\data\\datapipes\\iter\\combining.py:333: UserWarning: Some child DataPipes are not exhausted when __iter__ is called. We are resetting the buffer and each child DataPipe will read from the start again.\n",
      "  warnings.warn(\"Some child DataPipes are not exhausted when __iter__ is called. We are resetting \"\n"
     ]
    },
    {
     "name": "stdout",
     "output_type": "stream",
     "text": [
      "|   500 batches | accuracy    0.255\n",
      "|  1000 batches | accuracy    0.251\n",
      "|  1500 batches | accuracy    0.257\n",
      "-----------------------------------------------------------\n",
      "| end of epoch   1 | time:  9.27s | valid accuracy    0.254 \n",
      "-----------------------------------------------------------\n",
      "|   500 batches | accuracy    0.403\n",
      "|  1000 batches | accuracy    0.488\n",
      "|  1500 batches | accuracy    0.604\n",
      "-----------------------------------------------------------\n",
      "| end of epoch   2 | time: 12.22s | valid accuracy    0.690 \n",
      "-----------------------------------------------------------\n",
      "|   500 batches | accuracy    0.732\n",
      "|  1000 batches | accuracy    0.774\n",
      "|  1500 batches | accuracy    0.798\n",
      "-----------------------------------------------------------\n",
      "| end of epoch   3 | time: 12.16s | valid accuracy    0.797 \n",
      "-----------------------------------------------------------\n",
      "|   500 batches | accuracy    0.812\n",
      "|  1000 batches | accuracy    0.830\n",
      "|  1500 batches | accuracy    0.844\n",
      "-----------------------------------------------------------\n",
      "| end of epoch   4 | time: 11.87s | valid accuracy    0.830 \n",
      "-----------------------------------------------------------\n",
      "|   500 batches | accuracy    0.844\n",
      "|  1000 batches | accuracy    0.858\n",
      "|  1500 batches | accuracy    0.870\n",
      "-----------------------------------------------------------\n",
      "| end of epoch   5 | time: 11.75s | valid accuracy    0.852 \n",
      "-----------------------------------------------------------\n",
      "|   500 batches | accuracy    0.865\n",
      "|  1000 batches | accuracy    0.878\n",
      "|  1500 batches | accuracy    0.889\n",
      "-----------------------------------------------------------\n",
      "| end of epoch   6 | time: 11.61s | valid accuracy    0.856 \n",
      "-----------------------------------------------------------\n",
      "|   500 batches | accuracy    0.882\n",
      "|  1000 batches | accuracy    0.892\n",
      "|  1500 batches | accuracy    0.899\n",
      "-----------------------------------------------------------\n",
      "| end of epoch   7 | time: 11.84s | valid accuracy    0.862 \n",
      "-----------------------------------------------------------\n",
      "|   500 batches | accuracy    0.892\n",
      "|  1000 batches | accuracy    0.903\n",
      "|  1500 batches | accuracy    0.910\n",
      "-----------------------------------------------------------\n",
      "| end of epoch   8 | time: 11.56s | valid accuracy    0.872 \n",
      "-----------------------------------------------------------\n",
      "|   500 batches | accuracy    0.902\n",
      "|  1000 batches | accuracy    0.913\n",
      "|  1500 batches | accuracy    0.921\n",
      "-----------------------------------------------------------\n",
      "| end of epoch   9 | time: 11.75s | valid accuracy    0.873 \n",
      "-----------------------------------------------------------\n",
      "|   500 batches | accuracy    0.910\n",
      "|  1000 batches | accuracy    0.918\n",
      "|  1500 batches | accuracy    0.928\n",
      "-----------------------------------------------------------\n",
      "| end of epoch  10 | time: 11.90s | valid accuracy    0.877 \n",
      "-----------------------------------------------------------\n"
     ]
    }
   ],
   "source": [
    "for epoch in range(1, EPOCHS + 1):\n",
    "    epoch_start_time = time.time()\n",
    "\n",
    "    accu_train = train(train_dataloader)\n",
    "    accu_val = evaluate(test_dataloader)\n",
    "\n",
    "    #if accu_train > accu_val:\n",
    "    #    scheduler.step()\n",
    "    \n",
    "    print(\"-\" * 59)\n",
    "    print(\n",
    "        \"| end of epoch {:3d} | time: {:5.2f}s | \"\n",
    "        \"valid accuracy {:8.3f} \".format(\n",
    "            epoch, time.time() - epoch_start_time, accu_val\n",
    "        )\n",
    "    )\n",
    "    print(\"-\" * 59)"
   ]
  },
  {
   "cell_type": "code",
   "execution_count": 21,
   "metadata": {},
   "outputs": [
    {
     "name": "stdout",
     "output_type": "stream",
     "text": [
      "|   500 batches | accuracy    0.918\n",
      "|  1000 batches | accuracy    0.925\n",
      "|  1500 batches | accuracy    0.935\n",
      "-----------------------------------------------------------\n",
      "| end of epoch   1 | time:  9.10s | valid accuracy    0.869 \n",
      "-----------------------------------------------------------\n",
      "|   500 batches | accuracy    0.921\n",
      "|  1000 batches | accuracy    0.937\n",
      "|  1500 batches | accuracy    0.954\n",
      "-----------------------------------------------------------\n",
      "| end of epoch   2 | time: 12.08s | valid accuracy    0.882 \n",
      "-----------------------------------------------------------\n",
      "|   500 batches | accuracy    0.932\n",
      "|  1000 batches | accuracy    0.942\n",
      "|  1500 batches | accuracy    0.957\n",
      "-----------------------------------------------------------\n",
      "| end of epoch   3 | time: 12.21s | valid accuracy    0.881 \n",
      "-----------------------------------------------------------\n",
      "|   500 batches | accuracy    0.932\n",
      "|  1000 batches | accuracy    0.942\n",
      "|  1500 batches | accuracy    0.958\n",
      "-----------------------------------------------------------\n",
      "| end of epoch   4 | time: 12.13s | valid accuracy    0.880 \n",
      "-----------------------------------------------------------\n",
      "|   500 batches | accuracy    0.933\n",
      "|  1000 batches | accuracy    0.942\n",
      "|  1500 batches | accuracy    0.958\n",
      "-----------------------------------------------------------\n",
      "| end of epoch   5 | time: 11.92s | valid accuracy    0.881 \n",
      "-----------------------------------------------------------\n",
      "|   500 batches | accuracy    0.933\n",
      "|  1000 batches | accuracy    0.943\n",
      "|  1500 batches | accuracy    0.958\n",
      "-----------------------------------------------------------\n",
      "| end of epoch   6 | time: 12.13s | valid accuracy    0.882 \n",
      "-----------------------------------------------------------\n",
      "|   500 batches | accuracy    0.933\n",
      "|  1000 batches | accuracy    0.944\n",
      "|  1500 batches | accuracy    0.957\n",
      "-----------------------------------------------------------\n",
      "| end of epoch   7 | time: 11.98s | valid accuracy    0.881 \n",
      "-----------------------------------------------------------\n",
      "|   500 batches | accuracy    0.932\n",
      "|  1000 batches | accuracy    0.943\n",
      "|  1500 batches | accuracy    0.957\n",
      "-----------------------------------------------------------\n",
      "| end of epoch   8 | time: 12.03s | valid accuracy    0.881 \n",
      "-----------------------------------------------------------\n",
      "|   500 batches | accuracy    0.933\n",
      "|  1000 batches | accuracy    0.943\n",
      "|  1500 batches | accuracy    0.957\n",
      "-----------------------------------------------------------\n",
      "| end of epoch   9 | time: 11.71s | valid accuracy    0.882 \n",
      "-----------------------------------------------------------\n",
      "|   500 batches | accuracy    0.932\n",
      "|  1000 batches | accuracy    0.943\n",
      "|  1500 batches | accuracy    0.958\n",
      "-----------------------------------------------------------\n",
      "| end of epoch  10 | time: 11.92s | valid accuracy    0.881 \n",
      "-----------------------------------------------------------\n"
     ]
    }
   ],
   "source": [
    "# Hyperparameters\n",
    "EPOCHS = 10  # epoch\n",
    "LR = 5  # learning rate\n",
    "BATCH_SIZE = 8  # batch size for training\n",
    "\n",
    "criterion = torch.nn.CrossEntropyLoss()\n",
    "optimizer = torch.optim.SGD(model.parameters(), lr=LR)\n",
    "scheduler = torch.optim.lr_scheduler.StepLR(optimizer, 1.0, gamma=0.1)\n",
    "\n",
    "\n",
    "for epoch in range(1, EPOCHS + 1):\n",
    "    epoch_start_time = time.time()\n",
    "\n",
    "    accu_train = train(train_dataloader)\n",
    "    accu_val = evaluate(test_dataloader)\n",
    "\n",
    "    if accu_train > accu_val:\n",
    "        scheduler.step()\n",
    "    \n",
    "    print(\"-\" * 59)\n",
    "    print(\n",
    "        \"| end of epoch {:3d} | time: {:5.2f}s | \"\n",
    "        \"valid accuracy {:8.3f} \".format(\n",
    "            epoch, time.time() - epoch_start_time, accu_val\n",
    "        )\n",
    "    )\n",
    "    print(\"-\" * 59)"
   ]
  },
  {
   "cell_type": "markdown",
   "metadata": {},
   "source": [
    "---\n",
    "\n",
    "## **Práctica 1**\n",
    "\n",
    "Modifica el código anterior para adaptar el modelo LSTM al uso de *embeddings* preentrenados. Para ello, usa <code>from torchtext.vocab import GloVe</code> y elige el conjunto de *embeddings* GloVe que prefieras. Puedes encontrar más información en https://pytorch.org/text/stable/vocab.html#torchtext.vocab.GloVe\n",
    "\n",
    "Verifica si se produce una mejora en la precisión del modelo. ¿Qué ocurre si usas un conjunto de *embeddings* preentrenados de diferentes tamaños?\n",
    "\n",
    "\n",
    "\n",
    "---"
   ]
  },
  {
   "cell_type": "code",
   "execution_count": 23,
   "metadata": {
    "collapsed": false
   },
   "outputs": [],
   "source": [
    "from torchtext.vocab import GloVe\n",
    "GLOVE_DIM = 300\n",
    "#Importamos el embeding preentrenado\n",
    "glove = GloVe(name = \"6B\", dim = GLOVE_DIM)"
   ]
  },
  {
   "cell_type": "code",
   "execution_count": 24,
   "metadata": {
    "collapsed": false
   },
   "outputs": [],
   "source": [
    "text_pipeline = lambda x: [glove.get_vecs_by_tokens(token).tolist() for token in tokenizer(x)]\n",
    "label_pipeline = lambda x: int(x) - 1"
   ]
  },
  {
   "cell_type": "code",
   "execution_count": 31,
   "metadata": {},
   "outputs": [],
   "source": [
    "def collate_batch(batch):\n",
    "    \n",
    "    label_list, text_list = [], []\n",
    "    max_len = max([len(tokenizer(sample[1])) for sample in batch])\n",
    "    \n",
    "    for sample in batch:\n",
    "        label, text = sample\n",
    "        #text_list.append(torch.tensor(text_pipeline(text)))\n",
    "        embed_list = glove.get_vecs_by_tokens(tokenizer(text))\n",
    "        padding_list = glove[0].unsqueeze(0).repeat(max_len - len(embed_list), 1)\n",
    "        embed_list = torch.cat((embed_list, padding_list), 0) \n",
    "        \n",
    "        text_list.append(embed_list)\n",
    "        label_list.append(label_pipeline(label))\n",
    "    return torch.tensor(label_list, dtype=torch.long).to(device), torch.stack(text_list).to(device)"
   ]
  },
  {
   "cell_type": "code",
   "execution_count": 32,
   "metadata": {
    "collapsed": false
   },
   "outputs": [],
   "source": [
    "train_dataloader = DataLoader(\n",
    "    train_iter, batch_size=64, shuffle=True, collate_fn=collate_batch\n",
    ")\n",
    "\n",
    "test_dataloader = DataLoader(\n",
    "    test_iter, batch_size=64, shuffle=True, collate_fn=collate_batch\n",
    ")"
   ]
  },
  {
   "cell_type": "code",
   "execution_count": 33,
   "metadata": {},
   "outputs": [],
   "source": [
    "class LSTMTextClassificationModelGloVe(nn.Module):\n",
    "    def __init__(self, embed_dim, hidden_dim, num_class):\n",
    "        super(LSTMTextClassificationModelGloVe, self).__init__()\n",
    "        self.lstm = nn.LSTM(embed_dim, hidden_dim, batch_first=True)\n",
    "        self.fc = nn.Linear(hidden_dim, num_class)\n",
    "\n",
    "    def forward(self, embedding):\n",
    "        lstm_out, _ = self.lstm(embedding)\n",
    "        last_output = lstm_out[:, -1, :]\n",
    "        output = self.fc(last_output)\n",
    "        return output"
   ]
  },
  {
   "cell_type": "code",
   "execution_count": 34,
   "metadata": {},
   "outputs": [],
   "source": [
    "model = LSTMTextClassificationModelGloVe(GLOVE_DIM, 64, 4).to(device)"
   ]
  },
  {
   "cell_type": "code",
   "execution_count": 35,
   "metadata": {},
   "outputs": [
    {
     "name": "stderr",
     "output_type": "stream",
     "text": [
      "c:\\Users\\adria\\miniconda3\\envs\\cuda\\Lib\\site-packages\\torch\\utils\\data\\datapipes\\iter\\combining.py:333: UserWarning: Some child DataPipes are not exhausted when __iter__ is called. We are resetting the buffer and each child DataPipe will read from the start again.\n",
      "  warnings.warn(\"Some child DataPipes are not exhausted when __iter__ is called. We are resetting \"\n"
     ]
    },
    {
     "name": "stdout",
     "output_type": "stream",
     "text": [
      "|   500 batches | accuracy    0.256\n",
      "|  1000 batches | accuracy    0.256\n",
      "|  1500 batches | accuracy    0.318\n",
      "-----------------------------------------------------------\n",
      "| end of epoch   1 | time: 36.30s | valid accuracy    0.419 \n",
      "-----------------------------------------------------------\n",
      "|   500 batches | accuracy    0.529\n",
      "|  1000 batches | accuracy    0.851\n",
      "|  1500 batches | accuracy    0.892\n",
      "-----------------------------------------------------------\n",
      "| end of epoch   2 | time: 36.91s | valid accuracy    0.884 \n",
      "-----------------------------------------------------------\n",
      "|   500 batches | accuracy    0.889\n",
      "|  1000 batches | accuracy    0.898\n",
      "|  1500 batches | accuracy    0.919\n",
      "-----------------------------------------------------------\n",
      "| end of epoch   3 | time: 39.21s | valid accuracy    0.901 \n",
      "-----------------------------------------------------------\n",
      "|   500 batches | accuracy    0.897\n",
      "|  1000 batches | accuracy    0.900\n",
      "|  1500 batches | accuracy    0.924\n",
      "-----------------------------------------------------------\n",
      "| end of epoch   4 | time: 41.00s | valid accuracy    0.905 \n",
      "-----------------------------------------------------------\n",
      "|   500 batches | accuracy    0.897\n",
      "|  1000 batches | accuracy    0.904\n",
      "|  1500 batches | accuracy    0.922\n",
      "-----------------------------------------------------------\n",
      "| end of epoch   5 | time: 39.57s | valid accuracy    0.905 \n",
      "-----------------------------------------------------------\n",
      "|   500 batches | accuracy    0.896\n",
      "|  1000 batches | accuracy    0.904\n",
      "|  1500 batches | accuracy    0.922\n",
      "-----------------------------------------------------------\n",
      "| end of epoch   6 | time: 38.52s | valid accuracy    0.904 \n",
      "-----------------------------------------------------------\n",
      "|   500 batches | accuracy    0.897\n",
      "|  1000 batches | accuracy    0.904\n",
      "|  1500 batches | accuracy    0.923\n",
      "-----------------------------------------------------------\n",
      "| end of epoch   7 | time: 38.17s | valid accuracy    0.904 \n",
      "-----------------------------------------------------------\n",
      "|   500 batches | accuracy    0.898\n",
      "|  1000 batches | accuracy    0.903\n",
      "|  1500 batches | accuracy    0.923\n",
      "-----------------------------------------------------------\n",
      "| end of epoch   8 | time: 38.30s | valid accuracy    0.904 \n",
      "-----------------------------------------------------------\n",
      "|   500 batches | accuracy    0.896\n",
      "|  1000 batches | accuracy    0.903\n",
      "|  1500 batches | accuracy    0.924\n",
      "-----------------------------------------------------------\n",
      "| end of epoch   9 | time: 38.04s | valid accuracy    0.905 \n",
      "-----------------------------------------------------------\n",
      "|   500 batches | accuracy    0.898\n",
      "|  1000 batches | accuracy    0.903\n",
      "|  1500 batches | accuracy    0.922\n",
      "-----------------------------------------------------------\n",
      "| end of epoch  10 | time: 38.64s | valid accuracy    0.904 \n",
      "-----------------------------------------------------------\n"
     ]
    }
   ],
   "source": [
    "# Hyperparameters\n",
    "EPOCHS = 10  # epoch\n",
    "LR = 5  # learning rate\n",
    "BATCH_SIZE = 8  # batch size for training\n",
    "\n",
    "criterion = torch.nn.CrossEntropyLoss()\n",
    "optimizer = torch.optim.SGD(model.parameters(), lr=LR)\n",
    "scheduler = torch.optim.lr_scheduler.StepLR(optimizer, 1.0, gamma=0.1)\n",
    "\n",
    "\n",
    "for epoch in range(1, EPOCHS + 1):\n",
    "    epoch_start_time = time.time()\n",
    "\n",
    "    accu_train = train(train_dataloader)\n",
    "    accu_val = evaluate(test_dataloader)\n",
    "\n",
    "    if accu_train > accu_val:\n",
    "        scheduler.step()\n",
    "    \n",
    "    print(\"-\" * 59)\n",
    "    print(\n",
    "        \"| end of epoch {:3d} | time: {:5.2f}s | \"\n",
    "        \"valid accuracy {:8.3f} \".format(\n",
    "            epoch, time.time() - epoch_start_time, accu_val\n",
    "        )\n",
    "    )\n",
    "    print(\"-\" * 59)"
   ]
  }
 ],
 "metadata": {
  "kernelspec": {
   "display_name": "Python 3",
   "language": "python",
   "name": "python3"
  },
  "language_info": {
   "codemirror_mode": {
    "name": "ipython",
    "version": 3
   },
   "file_extension": ".py",
   "mimetype": "text/x-python",
   "name": "python",
   "nbconvert_exporter": "python",
   "pygments_lexer": "ipython3",
   "version": "3.11.5"
  }
 },
 "nbformat": 4,
 "nbformat_minor": 2
}
