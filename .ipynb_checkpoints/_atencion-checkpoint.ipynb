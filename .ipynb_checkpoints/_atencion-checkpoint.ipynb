{
 "cells": [
  {
   "cell_type": "markdown",
   "id": "3f6dfb05-5d3f-4333-bc9b-2beeaa94c1c2",
   "metadata": {},
   "source": [
    "# ATENCION"
   ]
  },
  {
   "cell_type": "code",
   "execution_count": 1,
   "id": "16112264-9927-42fa-b2ac-9429fa9e12a5",
   "metadata": {},
   "outputs": [
    {
     "name": "stdout",
     "output_type": "stream",
     "text": [
      "tensor([[0.0000, 0.0000, 0.0000, 0.0000],\n",
      "        [0.1732, 0.3464, 0.5196, 0.6928],\n",
      "        [0.0346, 0.0693, 0.1039, 0.1386],\n",
      "        [0.0520, 0.1039, 0.1559, 0.2078]])\n",
      "tensor([[0.2500, 0.2500, 0.2500, 0.2500],\n",
      "        [0.1892, 0.2250, 0.2676, 0.3182],\n",
      "        [0.2372, 0.2455, 0.2542, 0.2631],\n",
      "        [0.2309, 0.2432, 0.2561, 0.2698]])\n",
      "\n",
      " tensor([[0.2500, 0.5000, 0.5000],\n",
      "        [0.1892, 0.5432, 0.5857],\n",
      "        [0.2372, 0.5087, 0.5173],\n",
      "        [0.2309, 0.5130, 0.5260]])\n"
     ]
    }
   ],
   "source": [
    "import torch\n",
    "import random\n",
    "import numpy as np\n",
    "import torch.nn.functional as F\n",
    "\n",
    "Q = torch.tensor([[0.0, 0.0, 0.0], [1, 1, 1], [0.2, 0.2, 0.2], [0.3, 0.3, 0.3]])\n",
    "K = torch.tensor([[0.1, 0.1, 0.1], [0.2, 0.2, 0.2], [0.3, 0.3, 0.3], [0.4, 0.4, 0.4]])\n",
    "V = torch.tensor([[1., 0., 0.], [0., 1., 0.], [0., 0., 1.], [0., 1., 1.]])\n",
    "\n",
    "S =torch.mm(Q,K.T)\n",
    "S=S/np.sqrt(K.shape[1])\n",
    "\n",
    "n = S.shape[0]\n",
    "print(S)\n",
    "\n",
    "S = F.softmax(S, dim = 1)\n",
    "print(S)\n",
    "A = torch.sum(S[:, :, None] * V[None, :, :], dim=1)\n",
    "\n",
    "print('\\n',A)"
   ]
  },
  {
   "cell_type": "markdown",
   "id": "bfaa2c27-c022-49d3-9863-3420504d7b18",
   "metadata": {},
   "source": [
    "# ATENCION CON ENMASCARAMENTO"
   ]
  },
  {
   "cell_type": "code",
   "execution_count": 38,
   "id": "b1388456-2d38-4019-8c2e-ccb3bc001314",
   "metadata": {},
   "outputs": [
    {
     "name": "stdout",
     "output_type": "stream",
     "text": [
      "tensor([[0.0000,   -inf,   -inf,   -inf],\n",
      "        [0.1732, 0.3464,   -inf,   -inf],\n",
      "        [0.0346, 0.0693, 0.1039,   -inf],\n",
      "        [0.0520, 0.1039, 0.1559, 0.2078]])\n",
      "tensor([[1.0000, 0.0000, 0.0000, 0.0000],\n",
      "        [0.4568, 0.5432, 0.0000, 0.0000],\n",
      "        [0.3219, 0.3332, 0.3449, 0.0000],\n",
      "        [0.2309, 0.2432, 0.2561, 0.2698]])\n",
      "\n",
      " tensor([[1.0000, 0.0000, 0.0000],\n",
      "        [0.4568, 0.5432, 0.0000],\n",
      "        [0.3219, 0.3332, 0.3449],\n",
      "        [0.2309, 0.5130, 0.5260]])\n"
     ]
    }
   ],
   "source": [
    "import torch\n",
    "import random\n",
    "import numpy as np\n",
    "import torch.nn.functional as F\n",
    "\n",
    "\n",
    "Q = torch.tensor([[0.0, 0.0, 0.0], [1, 1, 1], [0.2, 0.2, 0.2], [0.3, 0.3, 0.3]])\n",
    "K = torch.tensor([[0.1, 0.1, 0.1], [0.2, 0.2, 0.2], [0.3, 0.3, 0.3], [0.4, 0.4, 0.4]])\n",
    "V = torch.tensor([[1., 0., 0.], [0., 1., 0.], [0., 0., 1.], [0., 1., 1.]])\n",
    "\n",
    "S =torch.mm(Q,K.T)\n",
    "S=S/np.sqrt(K.shape[1])\n",
    "\n",
    "n = S.shape[0]\n",
    "mask = torch.tril(torch.ones(n,n))==1  #triangular matrix\n",
    "S = torch.where(mask, S, float('-inf'))\n",
    "print(S)\n",
    "\n",
    "S = F.softmax(S, dim = 1)\n",
    "print(S)\n",
    "A = torch.sum(S[:, :, None] * V[None, :, :], dim=1)\n",
    "\n",
    "print('\\n',A)"
   ]
  },
  {
   "cell_type": "code",
   "execution_count": null,
   "id": "21fe1975-5d97-4ecd-b2ec-da046e3b6800",
   "metadata": {},
   "outputs": [],
   "source": []
  }
 ],
 "metadata": {
  "kernelspec": {
   "display_name": "Python 3 (ipykernel)",
   "language": "python",
   "name": "python3"
  },
  "language_info": {
   "codemirror_mode": {
    "name": "ipython",
    "version": 3
   },
   "file_extension": ".py",
   "mimetype": "text/x-python",
   "name": "python",
   "nbconvert_exporter": "python",
   "pygments_lexer": "ipython3",
   "version": "3.10.12"
  }
 },
 "nbformat": 4,
 "nbformat_minor": 5
}
