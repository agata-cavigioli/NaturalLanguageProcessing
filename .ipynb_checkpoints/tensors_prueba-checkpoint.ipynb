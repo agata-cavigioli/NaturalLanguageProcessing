{
 "cells": [
  {
   "cell_type": "code",
   "execution_count": 33,
   "id": "71109db7-5643-4d57-bd3f-066f44fa700b",
   "metadata": {},
   "outputs": [
    {
     "name": "stdout",
     "output_type": "stream",
     "text": [
      "tensor([[[1., 1., 1., 1., 1.],\n",
      "         [2., 2., 2., 2., 2.],\n",
      "         [3., 3., 3., 3., 3.],\n",
      "         [4., 4., 4., 4., 4.]],\n",
      "\n",
      "        [[1., 1., 1., 1., 1.],\n",
      "         [2., 2., 2., 2., 2.],\n",
      "         [3., 3., 3., 3., 3.],\n",
      "         [4., 4., 4., 4., 4.]],\n",
      "\n",
      "        [[1., 1., 1., 1., 1.],\n",
      "         [2., 2., 2., 2., 2.],\n",
      "         [3., 3., 3., 3., 3.],\n",
      "         [4., 4., 4., 4., 4.]]])\n",
      "tensor([[2., 2., 2., 2., 2.],\n",
      "        [2., 2., 2., 2., 2.],\n",
      "        [2., 2., 2., 2., 2.]])\n"
     ]
    }
   ],
   "source": [
    "import torch\n",
    "\n",
    "A = torch.ones((3,4,5))\n",
    "for i in range(0,4):\n",
    "    A[:,i,:]=i+1\n",
    "B = torch.ones((3,5))\n",
    "B[:,:] = 2\n",
    "print(A)\n",
    "print(B)"
   ]
  },
  {
   "cell_type": "code",
   "execution_count": 37,
   "id": "ff05883c-6d40-4d17-a696-0e8da0f06047",
   "metadata": {},
   "outputs": [
    {
     "name": "stdout",
     "output_type": "stream",
     "text": [
      "tensor([[0., 0., 0., 0.],\n",
      "        [0., 0., 0., 0.],\n",
      "        [0., 0., 0., 0.]])\n",
      "tensor([[10., 20., 30., 40.],\n",
      "        [10., 20., 30., 40.],\n",
      "        [10., 20., 30., 40.]])\n",
      "torch.Size([3, 4])\n"
     ]
    }
   ],
   "source": [
    "import numpy as np\n",
    "C = torch.zeros((3,4))\n",
    "print(C)\n",
    "\n",
    "for j in range(0,4):\n",
    "    for i in range(0,3):\n",
    "        C[i,j] = torch.dot(A[i,j,:],B[i,:])\n",
    "\n",
    "print(C)\n",
    "print(C.shape)"
   ]
  },
  {
   "cell_type": "code",
   "execution_count": 40,
   "id": "efe27057-e24d-40e5-90f8-54f63ad2b71c",
   "metadata": {},
   "outputs": [
    {
     "name": "stdout",
     "output_type": "stream",
     "text": [
      "torch.Size([3, 1, 5])\n",
      "torch.Size([3, 4])\n",
      "tensor([[10., 20., 30., 40.],\n",
      "        [10., 20., 30., 40.],\n",
      "        [10., 20., 30., 40.]])\n"
     ]
    }
   ],
   "source": [
    "newB = B.unsqueeze(1) \n",
    "print(newB.shape)\n",
    "\n",
    "oldC = torch.bmm(A, newB.transpose(1, 2))\n",
    "C = oldC.squeeze()\n",
    "print(C.shape)\n",
    "print(C)"
   ]
  },
  {
   "cell_type": "code",
   "execution_count": 41,
   "id": "c391676f-85f3-4a8c-a94b-a8bb8da4d97d",
   "metadata": {},
   "outputs": [
    {
     "name": "stdout",
     "output_type": "stream",
     "text": [
      "tensor([[9.3572e-14, 2.0611e-09, 4.5398e-05, 9.9995e-01],\n",
      "        [9.3572e-14, 2.0611e-09, 4.5398e-05, 9.9995e-01],\n",
      "        [9.3572e-14, 2.0611e-09, 4.5398e-05, 9.9995e-01]])\n"
     ]
    }
   ],
   "source": [
    "import torch.nn.functional as F\n",
    "\n",
    "softC = F.softmax(C, dim=1)\n",
    "print(softC)"
   ]
  },
  {
   "cell_type": "code",
   "execution_count": 55,
   "id": "a1b14b7b-2c87-4833-86f0-73778c6ac499",
   "metadata": {},
   "outputs": [
    {
     "name": "stdout",
     "output_type": "stream",
     "text": [
      "torch.Size([3, 4, 5])\n",
      "torch.Size([3, 4])\n",
      "torch.Size([3, 4, 1])\n",
      "torch.Size([3, 4, 5])\n",
      "tensor([[[9.3572e-14, 9.3572e-14, 9.3572e-14, 9.3572e-14, 9.3572e-14],\n",
      "         [4.1221e-09, 4.1221e-09, 4.1221e-09, 4.1221e-09, 4.1221e-09],\n",
      "         [1.3619e-04, 1.3619e-04, 1.3619e-04, 1.3619e-04, 1.3619e-04],\n",
      "         [3.9998e+00, 3.9998e+00, 3.9998e+00, 3.9998e+00, 3.9998e+00]],\n",
      "\n",
      "        [[9.3572e-14, 9.3572e-14, 9.3572e-14, 9.3572e-14, 9.3572e-14],\n",
      "         [4.1221e-09, 4.1221e-09, 4.1221e-09, 4.1221e-09, 4.1221e-09],\n",
      "         [1.3619e-04, 1.3619e-04, 1.3619e-04, 1.3619e-04, 1.3619e-04],\n",
      "         [3.9998e+00, 3.9998e+00, 3.9998e+00, 3.9998e+00, 3.9998e+00]],\n",
      "\n",
      "        [[9.3572e-14, 9.3572e-14, 9.3572e-14, 9.3572e-14, 9.3572e-14],\n",
      "         [4.1221e-09, 4.1221e-09, 4.1221e-09, 4.1221e-09, 4.1221e-09],\n",
      "         [1.3619e-04, 1.3619e-04, 1.3619e-04, 1.3619e-04, 1.3619e-04],\n",
      "         [3.9998e+00, 3.9998e+00, 3.9998e+00, 3.9998e+00, 3.9998e+00]]])\n"
     ]
    }
   ],
   "source": [
    "# A and softC\n",
    "import tensorflow\n",
    "\n",
    "print(A.shape)\n",
    "print(softC.shape)\n",
    "newsoftC = softC.unsqueeze(2)\n",
    "print(newsoftC.shape)\n",
    "\n",
    "D = A * newsoftC\n",
    "print(D.shape)\n",
    "print(D)"
   ]
  },
  {
   "cell_type": "code",
   "execution_count": 11,
   "id": "0f5f25a2-e7d8-4738-b53c-12043f3f59c1",
   "metadata": {},
   "outputs": [
    {
     "name": "stdout",
     "output_type": "stream",
     "text": [
      "torch.Size([4, 3])\n",
      "\n",
      " tensor([[0.2500, 0.5000, 0.5000],\n",
      "        [0.1892, 0.5432, 0.5857],\n",
      "        [0.2372, 0.5087, 0.5173],\n",
      "        [0.2309, 0.5130, 0.5260]])\n"
     ]
    }
   ],
   "source": [
    "#entonces\n",
    "\n",
    "import torch\n",
    "import torch.nn.functional as F\n",
    "import numpy as np\n",
    "\n",
    "Q = torch.tensor([[0.0,0.0,0.0], [1,1,1], [0.2,0.2,0.2], [0.3,0.3,0.3]])\n",
    "K = torch.tensor([[0.1,0.1,0.1], [0.2,0.2,0.2], [0.3,0.3,0.3], [0.4,0.4,0.4]])\n",
    "V = torch.tensor([[1,0,0], [0,1,0], [0,0,1], [0,1,1]])\n",
    "\n",
    "S =torch.mm(Q,K.T)\n",
    "S=S/np.sqrt(K.shape[1])\n",
    "S = F.softmax(S, dim = 1)\n",
    "A = torch.sum(S[:, :, None] * V[None, :, :], dim=1)\n",
    "\n",
    "print(A.shape)\n",
    "print('\\n',A)"
   ]
  },
  {
   "cell_type": "code",
   "execution_count": null,
   "id": "600856d0-a64e-484d-abaa-c5ab1479b44d",
   "metadata": {},
   "outputs": [],
   "source": []
  },
  {
   "cell_type": "code",
   "execution_count": null,
   "id": "818573b9-60e1-403b-8593-0ae59008f403",
   "metadata": {},
   "outputs": [],
   "source": []
  }
 ],
 "metadata": {
  "kernelspec": {
   "display_name": "Python 3 (ipykernel)",
   "language": "python",
   "name": "python3"
  },
  "language_info": {
   "codemirror_mode": {
    "name": "ipython",
    "version": 3
   },
   "file_extension": ".py",
   "mimetype": "text/x-python",
   "name": "python",
   "nbconvert_exporter": "python",
   "pygments_lexer": "ipython3",
   "version": "3.10.12"
  }
 },
 "nbformat": 4,
 "nbformat_minor": 5
}
